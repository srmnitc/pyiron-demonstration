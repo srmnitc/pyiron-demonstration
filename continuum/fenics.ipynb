{
 "cells": [
  {
   "cell_type": "markdown",
   "id": "efa0d5e3-87a1-4ea8-a423-6b69f4fa0c84",
   "metadata": {},
   "source": [
    "# <font style=\"color:#313151\" face=\"Helvetica\" > pyiron-continuum </font>\n",
    "\n",
    "---"
   ]
  },
  {
   "cell_type": "markdown",
   "id": "ee0b6dc2-7edd-4cef-bd16-50e8e872e3e2",
   "metadata": {},
   "source": [
    "\n",
    "<table border=\"0\">\n",
    " <tr>\n",
    "    <td style=\"width:60%\"> <p style=\"width:100% color:gray;font-size:18px;text-align:right\"> <a href=\"https://github.com/pyiron/pyiron_continuum\">pyiron-continuum</a> provides integrations for continuum tools enabling seamless cross-code workflows from jupyter notebooks.</p> </td>\n",
    "    <td style=\"width:40%\"><img src=\"img/logo.png\" width=\"50%\" align=\"justify\"></td>\n",
    "  </tr>\n",
    "</table>"
   ]
  },
  {
   "cell_type": "markdown",
   "id": "5de12f62-a343-4805-88dd-7eda53cc55dc",
   "metadata": {},
   "source": [
    "\n",
    "<table border=\"0\">\n",
    " <tr>\n",
    "    <td style=\"width:40%\"><img src=\"img/fenics_banner.png\" width=\"100%\" align=\"justify\"></td>\n",
    "    <td style=\"width:60%\"> <p style=\"width:100% color:gray;font-size:18px;text-align:justify\"> FEniCS is a popular open-source computing platform for solving partial differential equations (PDEs). FEniCS enables users to quickly translate scientific models into efficient finite element code.</p> </td>\n",
    " </tr>\n",
    "</table>"
   ]
  },
  {
   "cell_type": "markdown",
   "id": "a8f29aee-b447-487f-8954-cacf72452323",
   "metadata": {},
   "source": [
    "---"
   ]
  },
  {
   "cell_type": "markdown",
   "id": "728fb662-a0ca-46fc-b7b2-2625314a9dbf",
   "metadata": {},
   "source": [
    "## <font style=\"color:#313151\" face=\"Helvetica\" > Solving the Poisson equation </font>\n",
    "\n",
    "Poisson equation is fundamental equation. It can be formulated as,\n",
    "\n",
    "$$\n",
    "- \\nabla^2 u(\\pmb{x}) = f(\\pmb{x}),~\\pmb{x}~\\mathrm{in}~\\Omega \\\\\n",
    "u(\\pmb{x}) = u_D(\\pmb{x}),~\\pmb{x}~\\mathrm{on}~\\partial\\Omega\n",
    "$$\n",
    "\n",
    "In two dimensions, the equation can be written as,\n",
    "\n",
    "$$\n",
    "- \\frac{\\partial^2 u}{\\partial x^2} - \\frac{\\partial^2 u}{\\partial y^2} = f(x, y)\n",
    "$$\n",
    "\n",
    "\n"
   ]
  },
  {
   "cell_type": "code",
   "execution_count": 1,
   "id": "34efe0f5-26ba-450b-967f-1610ae4003da",
   "metadata": {},
   "outputs": [],
   "source": [
    "from pyiron_base import Project\n",
    "import pyiron_continuum\n",
    "import numpy as np\n",
    "import matplotlib.pyplot as plt\n",
    "import seaborn as sns"
   ]
  },
  {
   "cell_type": "code",
   "execution_count": 2,
   "id": "dbe5eb45-7bbc-40df-95a1-479e8d9236d4",
   "metadata": {},
   "outputs": [],
   "source": [
    "pr = Project('fenics_tutorial')\n",
    "pr.remove_jobs(silently=True, recursive=True)"
   ]
  },
  {
   "cell_type": "code",
   "execution_count": 3,
   "id": "7b55136d-9841-4741-a6bb-b2ab9f25b722",
   "metadata": {
    "tags": []
   },
   "outputs": [
    {
     "name": "stderr",
     "output_type": "stream",
     "text": [
      "/home/sarath/miniconda3/envs/pyiron-demonstration/lib/python3.10/site-packages/pyiron_continuum/fenics/job/generic.py:123: UserWarning: Currently, the c++ dolfin functions used by fenics are not stored in the HDF5 file. This includes the domains, boundary condition, spatial functions. Therefore, it is not possible to reload the job properly, from HDF5 file. It would be safe to remove the Fenics jobs, after defining the project.\n",
      "  warnings.warn(\"Currently, the c++ dolfin functions used by fenics are not stored in the HDF5 file.\"\n"
     ]
    }
   ],
   "source": [
    "job = pr.create.job.Fenics('poisson', delete_existing_job=True)"
   ]
  },
  {
   "cell_type": "markdown",
   "id": "3f28d98c-4efb-465e-b52f-b49e2809de31",
   "metadata": {},
   "source": [
    "### Step 1: Identify the domain"
   ]
  },
  {
   "cell_type": "code",
   "execution_count": 4,
   "id": "4823f20e-4de1-40a9-94b4-9986c576bd09",
   "metadata": {},
   "outputs": [],
   "source": [
    "job.domain = job.create.domain.unit_mesh.square(8, 8)"
   ]
  },
  {
   "cell_type": "markdown",
   "id": "34e845ad-7a80-4c62-85a0-fd747cf2a56c",
   "metadata": {},
   "source": [
    "### Step 2: Assign boundary conditions"
   ]
  },
  {
   "cell_type": "markdown",
   "id": "5e8978dd-3ad5-4eea-aec7-beff8cbc0d4e",
   "metadata": {},
   "source": [
    "For the purpose of demonstration, we use a simple quadratic function:\n",
    "\n",
    "$$\n",
    "u_e(x, y) = 1 + x^2 + 2 y^2\n",
    "$$\n",
    "\n",
    "By inserting it back into Poisson equation, we can say that $u_e$ is a solution if,\n",
    "\n",
    "$f(x, y)=-6,~u_D(x, y)=u_e(x, y)=1 + x^2 + 2 y^2$"
   ]
  },
  {
   "cell_type": "code",
   "execution_count": 5,
   "id": "9482bac9-6dd6-4989-9dff-a1a58b66dfbf",
   "metadata": {},
   "outputs": [],
   "source": [
    "u_D = job.Expression('1 + x[0]*x[0] + 2*x[1]*x[1]', degree=2)"
   ]
  },
  {
   "cell_type": "markdown",
   "id": "3d397a29-ae2a-4317-94d5-720de3f13d2a",
   "metadata": {},
   "source": [
    "Assign boundary conditions now"
   ]
  },
  {
   "cell_type": "code",
   "execution_count": 6,
   "id": "5779f36e-0b55-4196-8992-97bb464882d1",
   "metadata": {},
   "outputs": [
    {
     "ename": "NameError",
     "evalue": "name 'Mesh' is not defined",
     "output_type": "error",
     "traceback": [
      "\u001b[0;31m---------------------------------------------------------------------------\u001b[0m",
      "\u001b[0;31mNameError\u001b[0m                                 Traceback (most recent call last)",
      "Input \u001b[0;32mIn [6]\u001b[0m, in \u001b[0;36m<cell line: 1>\u001b[0;34m()\u001b[0m\n\u001b[0;32m----> 1\u001b[0m job\u001b[38;5;241m.\u001b[39mBC \u001b[38;5;241m=\u001b[39m \u001b[43mjob\u001b[49m\u001b[38;5;241;43m.\u001b[39;49m\u001b[43mcreate\u001b[49m\u001b[38;5;241;43m.\u001b[39;49m\u001b[43mbc\u001b[49m\u001b[38;5;241;43m.\u001b[39;49m\u001b[43mdirichlet\u001b[49m\u001b[43m(\u001b[49m\u001b[43mu_D\u001b[49m\u001b[43m)\u001b[49m\n",
      "File \u001b[0;32m~/miniconda3/envs/pyiron-demonstration/lib/python3.10/site-packages/pyiron_continuum/fenics/factory.py:103\u001b[0m, in \u001b[0;36mBoundaryConditionFactory.dirichlet\u001b[0;34m(self, expression, bc_fnc)\u001b[0m\n\u001b[1;32m     94\u001b[0m \u001b[38;5;124;03m\"\"\"\u001b[39;00m\n\u001b[1;32m     95\u001b[0m \u001b[38;5;124;03mThis function defines Dirichlet boundary condition based on the given expression on the boundary.\u001b[39;00m\n\u001b[1;32m     96\u001b[0m \n\u001b[0;32m   (...)\u001b[0m\n\u001b[1;32m    100\u001b[0m \u001b[38;5;124;03m        expression is applied as displacement.\u001b[39;00m\n\u001b[1;32m    101\u001b[0m \u001b[38;5;124;03m\"\"\"\u001b[39;00m\n\u001b[1;32m    102\u001b[0m bc_fnc \u001b[38;5;241m=\u001b[39m bc_fnc \u001b[38;5;129;01mor\u001b[39;00m \u001b[38;5;28mself\u001b[39m\u001b[38;5;241m.\u001b[39m_default_bc_fnc\n\u001b[0;32m--> 103\u001b[0m \u001b[38;5;28;01mreturn\u001b[39;00m FEN\u001b[38;5;241m.\u001b[39mDirichletBC(\u001b[38;5;28;43mself\u001b[39;49m\u001b[38;5;241;43m.\u001b[39;49m\u001b[43m_job\u001b[49m\u001b[38;5;241;43m.\u001b[39;49m\u001b[43mV\u001b[49m, expression, bc_fnc)\n",
      "File \u001b[0;32m~/miniconda3/envs/pyiron-demonstration/lib/python3.10/site-packages/pyiron_continuum/fenics/job/generic.py:211\u001b[0m, in \u001b[0;36mFenics.V\u001b[0;34m(self)\u001b[0m\n\u001b[1;32m    208\u001b[0m \u001b[38;5;129m@property\u001b[39m\n\u001b[1;32m    209\u001b[0m \u001b[38;5;28;01mdef\u001b[39;00m \u001b[38;5;21mV\u001b[39m(\u001b[38;5;28mself\u001b[39m):\n\u001b[1;32m    210\u001b[0m     \u001b[38;5;28;01mif\u001b[39;00m \u001b[38;5;28mself\u001b[39m\u001b[38;5;241m.\u001b[39m_V \u001b[38;5;129;01mis\u001b[39;00m \u001b[38;5;28;01mNone\u001b[39;00m:\n\u001b[0;32m--> 211\u001b[0m         \u001b[38;5;28;43mself\u001b[39;49m\u001b[38;5;241;43m.\u001b[39;49m\u001b[43mrefresh\u001b[49m\u001b[43m(\u001b[49m\u001b[43m)\u001b[49m\n\u001b[1;32m    212\u001b[0m     \u001b[38;5;28;01mreturn\u001b[39;00m \u001b[38;5;28mself\u001b[39m\u001b[38;5;241m.\u001b[39m_V\n",
      "File \u001b[0;32m~/miniconda3/envs/pyiron-demonstration/lib/python3.10/site-packages/pyiron_continuum/fenics/job/generic.py:200\u001b[0m, in \u001b[0;36mFenics.refresh\u001b[0;34m(self)\u001b[0m\n\u001b[1;32m    199\u001b[0m \u001b[38;5;28;01mdef\u001b[39;00m \u001b[38;5;21mrefresh\u001b[39m(\u001b[38;5;28mself\u001b[39m):\n\u001b[0;32m--> 200\u001b[0m     \u001b[38;5;28;43mself\u001b[39;49m\u001b[38;5;241;43m.\u001b[39;49m\u001b[43mgenerate_mesh\u001b[49m\u001b[43m(\u001b[49m\u001b[43m)\u001b[49m\n",
      "File \u001b[0;32m~/miniconda3/envs/pyiron-demonstration/lib/python3.10/site-packages/pyiron_continuum/fenics/job/generic.py:183\u001b[0m, in \u001b[0;36mFenics.generate_mesh\u001b[0;34m(self)\u001b[0m\n\u001b[1;32m    182\u001b[0m \u001b[38;5;28;01mdef\u001b[39;00m \u001b[38;5;21mgenerate_mesh\u001b[39m(\u001b[38;5;28mself\u001b[39m):\n\u001b[0;32m--> 183\u001b[0m     \u001b[38;5;28;01mif\u001b[39;00m \u001b[38;5;28misinstance\u001b[39m(\u001b[38;5;28mself\u001b[39m\u001b[38;5;241m.\u001b[39mdomain, \u001b[43mMesh\u001b[49m):\n\u001b[1;32m    184\u001b[0m         \u001b[38;5;28mself\u001b[39m\u001b[38;5;241m.\u001b[39m_mesh \u001b[38;5;241m=\u001b[39m \u001b[38;5;28mself\u001b[39m\u001b[38;5;241m.\u001b[39mdomain  \u001b[38;5;66;03m# Intent: Allow the domain to return a unit mesh\u001b[39;00m\n\u001b[1;32m    185\u001b[0m     \u001b[38;5;28;01melse\u001b[39;00m:\n",
      "\u001b[0;31mNameError\u001b[0m: name 'Mesh' is not defined"
     ]
    }
   ],
   "source": [
    "job.BC = job.create.bc.dirichlet(u_D)"
   ]
  },
  {
   "cell_type": "code",
   "execution_count": 7,
   "id": "4852d752-d4a6-48d8-95cd-84f7fe0167ca",
   "metadata": {},
   "outputs": [
    {
     "ename": "ImportError",
     "evalue": "generic_type: type \"CSGGeometry\" referenced unknown base type \"dolfin::Variable\"",
     "output_type": "error",
     "traceback": [
      "\u001b[0;31m---------------------------------------------------------------------------\u001b[0m",
      "\u001b[0;31mImportError\u001b[0m                               Traceback (most recent call last)",
      "Input \u001b[0;32mIn [7]\u001b[0m, in \u001b[0;36m<cell line: 2>\u001b[0;34m()\u001b[0m\n\u001b[1;32m      1\u001b[0m \u001b[38;5;28;01mimport\u001b[39;00m \u001b[38;5;21;01mfenics\u001b[39;00m \u001b[38;5;28;01mas\u001b[39;00m \u001b[38;5;21;01mFEN\u001b[39;00m\n\u001b[0;32m----> 2\u001b[0m \u001b[38;5;28;01mimport\u001b[39;00m \u001b[38;5;21;01mmshr\u001b[39;00m\n\u001b[1;32m      3\u001b[0m \u001b[38;5;28;01mfrom\u001b[39;00m \u001b[38;5;21;01mdolfin\u001b[39;00m\u001b[38;5;21;01m.\u001b[39;00m\u001b[38;5;21;01mcpp\u001b[39;00m\u001b[38;5;21;01m.\u001b[39;00m\u001b[38;5;21;01mmesh\u001b[39;00m \u001b[38;5;28;01mimport\u001b[39;00m Mesh\n\u001b[1;32m      4\u001b[0m \u001b[38;5;28;01mfrom\u001b[39;00m \u001b[38;5;21;01mufl\u001b[39;00m \u001b[38;5;28;01mimport\u001b[39;00m nabla_div \u001b[38;5;28;01mas\u001b[39;00m ufl_nabla_div\n",
      "File \u001b[0;32m~/miniconda3/envs/pyiron-demonstration/lib/python3.10/site-packages/mshr/__init__.py:24\u001b[0m, in \u001b[0;36m<module>\u001b[0;34m\u001b[0m\n\u001b[1;32m      4\u001b[0m \u001b[38;5;66;03m# Copyright (C) 2017 Benjamin Kehlet\u001b[39;00m\n\u001b[1;32m      5\u001b[0m \n\u001b[1;32m      6\u001b[0m \u001b[38;5;66;03m# This file is part of mshr.\u001b[39;00m\n\u001b[0;32m   (...)\u001b[0m\n\u001b[1;32m     19\u001b[0m \u001b[38;5;66;03m# along with mshr.  If not, see <http:#www.gnu.org/licenses/>.\u001b[39;00m\n\u001b[1;32m     20\u001b[0m \u001b[38;5;66;03m#\u001b[39;00m\n\u001b[1;32m     22\u001b[0m \u001b[38;5;28;01mimport\u001b[39;00m \u001b[38;5;21;01mdolfin\u001b[39;00m\n\u001b[0;32m---> 24\u001b[0m \u001b[38;5;28;01mfrom\u001b[39;00m \u001b[38;5;21;01m.\u001b[39;00m\u001b[38;5;21;01mcpp\u001b[39;00m \u001b[38;5;28;01mimport\u001b[39;00m Circle\n\u001b[1;32m     25\u001b[0m \u001b[38;5;28;01mfrom\u001b[39;00m \u001b[38;5;21;01m.\u001b[39;00m\u001b[38;5;21;01mcpp\u001b[39;00m \u001b[38;5;28;01mimport\u001b[39;00m Ellipse\n\u001b[1;32m     26\u001b[0m \u001b[38;5;28;01mfrom\u001b[39;00m \u001b[38;5;21;01m.\u001b[39;00m\u001b[38;5;21;01mcpp\u001b[39;00m \u001b[38;5;28;01mimport\u001b[39;00m Rectangle\n",
      "\u001b[0;31mImportError\u001b[0m: generic_type: type \"CSGGeometry\" referenced unknown base type \"dolfin::Variable\""
     ]
    }
   ],
   "source": [
    "import fenics as FEN\n",
    "import mshr\n",
    "from dolfin.cpp.mesh import Mesh\n",
    "from ufl import nabla_div as ufl_nabla_div"
   ]
  },
  {
   "cell_type": "code",
   "execution_count": null,
   "id": "d7844a66-372b-4ca0-b4ae-02213a9ff0ae",
   "metadata": {},
   "outputs": [],
   "source": []
  }
 ],
 "metadata": {
  "kernelspec": {
   "display_name": "Python 3 (ipykernel)",
   "language": "python",
   "name": "python3"
  },
  "language_info": {
   "codemirror_mode": {
    "name": "ipython",
    "version": 3
   },
   "file_extension": ".py",
   "mimetype": "text/x-python",
   "name": "python",
   "nbconvert_exporter": "python",
   "pygments_lexer": "ipython3",
   "version": "3.10.4"
  }
 },
 "nbformat": 4,
 "nbformat_minor": 5
}
