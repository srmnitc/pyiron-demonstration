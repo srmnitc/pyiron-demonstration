{
 "cells": [
  {
   "cell_type": "markdown",
   "id": "efa0d5e3-87a1-4ea8-a423-6b69f4fa0c84",
   "metadata": {},
   "source": [
    "# <font style=\"color:#313151\" face=\"Helvetica\" > pyiron-continuum </font>\n",
    "\n",
    "---"
   ]
  },
  {
   "cell_type": "markdown",
   "id": "ee0b6dc2-7edd-4cef-bd16-50e8e872e3e2",
   "metadata": {},
   "source": [
    "\n",
    "<table border=\"0\">\n",
    " <tr>\n",
    "    <td style=\"width:60%\"> <p style=\"width:100% color:gray;font-size:18px;text-align:right\"> <a href=\"url\">pyiron-continuum</a> provides integrations for continuum tools enabling seamless cross-code workflows from jupyter notebooks.</p> </td>\n",
    "    <td style=\"width:40%\"><img src=\"img/logo.png\" width=\"50%\" align=\"justify\"></td>\n",
    "  </tr>\n",
    "</table>"
   ]
  },
  {
   "cell_type": "markdown",
   "id": "5de12f62-a343-4805-88dd-7eda53cc55dc",
   "metadata": {},
   "source": [
    "\n",
    "<table border=\"0\">\n",
    " <tr>\n",
    "    <td style=\"width:40%\"><img src=\"img/fenics_banner.png\" width=\"100%\" align=\"justify\"></td>\n",
    "    <td style=\"width:60%\"> <p style=\"width:100% color:gray;font-size:18px;text-align:justify\"> FEniCSx is a popular open-source computing platform for solving partial differential equations (PDEs). FEniCSx enables users to quickly translate scientific models into efficient finite element code.</p> </td>\n",
    " </tr>\n",
    "</table>"
   ]
  },
  {
   "cell_type": "markdown",
   "id": "728fb662-a0ca-46fc-b7b2-2625314a9dbf",
   "metadata": {},
   "source": [
    "\n",
    "\n",
    "\n"
   ]
  }
 ],
 "metadata": {
  "kernelspec": {
   "display_name": "pyiron-demonstration",
   "language": "python",
   "name": "pyiron-demonstration"
  },
  "language_info": {
   "codemirror_mode": {
    "name": "ipython",
    "version": 3
   },
   "file_extension": ".py",
   "mimetype": "text/x-python",
   "name": "python",
   "nbconvert_exporter": "python",
   "pygments_lexer": "ipython3",
   "version": "3.10.4"
  }
 },
 "nbformat": 4,
 "nbformat_minor": 5
}
