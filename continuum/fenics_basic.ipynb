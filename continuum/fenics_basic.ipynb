{
 "cells": [
  {
   "cell_type": "markdown",
   "id": "efa0d5e3-87a1-4ea8-a423-6b69f4fa0c84",
   "metadata": {},
   "source": [
    "# <font style=\"color:#313151\" face=\"Helvetica\" > pyiron-continuum </font>\n",
    "\n",
    "---"
   ]
  },
  {
   "cell_type": "markdown",
   "id": "ee0b6dc2-7edd-4cef-bd16-50e8e872e3e2",
   "metadata": {},
   "source": [
    "\n",
    "<table border=\"0\">\n",
    " <tr>\n",
    "    <td style=\"width:60%\"> <p style=\"width:100% color:gray;font-size:18px;text-align:right\"> <a href=\"https://github.com/pyiron/pyiron_continuum\">pyiron-continuum</a> provides integrations for continuum tools enabling seamless cross-code workflows from jupyter notebooks.</p> </td>\n",
    "    <td style=\"width:40%\"><img src=\"img/logo.png\" width=\"50%\" align=\"justify\"></td>\n",
    "  </tr>\n",
    "</table>"
   ]
  },
  {
   "cell_type": "markdown",
   "id": "5de12f62-a343-4805-88dd-7eda53cc55dc",
   "metadata": {},
   "source": [
    "\n",
    "<table border=\"0\">\n",
    " <tr>\n",
    "    <td style=\"width:40%\"><img src=\"img/fenics_banner.png\" width=\"100%\" align=\"justify\"></td>\n",
    "    <td style=\"width:60%\"> <p style=\"width:100% color:gray;font-size:18px;text-align:justify\"> FEniCS is a popular open-source computing platform for solving partial differential equations (PDEs). FEniCS enables users to quickly translate scientific models into efficient finite element code.</p> </td>\n",
    " </tr>\n",
    "</table>"
   ]
  },
  {
   "cell_type": "markdown",
   "id": "a8f29aee-b447-487f-8954-cacf72452323",
   "metadata": {},
   "source": [
    "---"
   ]
  },
  {
   "cell_type": "markdown",
   "id": "728fb662-a0ca-46fc-b7b2-2625314a9dbf",
   "metadata": {
    "tags": []
   },
   "source": [
    "## <font style=\"color:#313151\" face=\"Helvetica\" > Solving the Poisson equation </font>\n",
    "\n",
    "Poisson equation is fundamental equation. It can be formulated as,\n",
    "\n",
    "$$\n",
    "- \\nabla^2 u(\\pmb{x}) = f(\\pmb{x}),~\\pmb{x}~\\mathrm{in}~\\Omega \\\\\n",
    "u(\\pmb{x}) = u_D(\\pmb{x}),~\\pmb{x}~\\mathrm{on}~\\partial\\Omega\n",
    "$$\n",
    "\n",
    "In two dimensions, the equation can be written as,\n",
    "\n",
    "$$\n",
    "- \\frac{\\partial^2 u}{\\partial x^2} - \\frac{\\partial^2 u}{\\partial y^2} = f(x, y)\n",
    "$$\n",
    "\n",
    "\n"
   ]
  },
  {
   "cell_type": "code",
   "execution_count": 1,
   "id": "34efe0f5-26ba-450b-967f-1610ae4003da",
   "metadata": {},
   "outputs": [],
   "source": [
    "from pyiron_base import Project\n",
    "import pyiron_continuum\n",
    "import numpy as np\n",
    "import matplotlib.pyplot as plt\n",
    "import seaborn as sns"
   ]
  },
  {
   "cell_type": "code",
   "execution_count": 2,
   "id": "dbe5eb45-7bbc-40df-95a1-479e8d9236d4",
   "metadata": {},
   "outputs": [],
   "source": [
    "pr = Project('fenics_tutorial')\n",
    "pr.remove_jobs(silently=True, recursive=True)"
   ]
  },
  {
   "cell_type": "code",
   "execution_count": 3,
   "id": "7b55136d-9841-4741-a6bb-b2ab9f25b722",
   "metadata": {
    "collapsed": true,
    "jupyter": {
     "outputs_hidden": true
    },
    "tags": []
   },
   "outputs": [
    {
     "name": "stderr",
     "output_type": "stream",
     "text": [
      "/home/sarath/miniconda3/envs/pyiron-demonstration2/lib/python3.9/site-packages/pyiron_continuum-0.0.5.post0.dev23-py3.9.egg/pyiron_continuum/fenics/job/generic.py:123: UserWarning: Currently, the c++ dolfin functions used by fenics are not stored in the HDF5 file. This includes the domains, boundary condition, spatial functions. Therefore, it is not possible to reload the job properly, from HDF5 file. It would be safe to remove the Fenics jobs, after defining the project.\n",
      "  warnings.warn(\"Currently, the c++ dolfin functions used by fenics are not stored in the HDF5 file.\"\n"
     ]
    }
   ],
   "source": [
    "job = pr.create.job.Fenics('poisson', delete_existing_job=True)"
   ]
  },
  {
   "cell_type": "markdown",
   "id": "3f28d98c-4efb-465e-b52f-b49e2809de31",
   "metadata": {},
   "source": [
    "### Step 1: Identify the domain"
   ]
  },
  {
   "cell_type": "code",
   "execution_count": 4,
   "id": "4823f20e-4de1-40a9-94b4-9986c576bd09",
   "metadata": {},
   "outputs": [],
   "source": [
    "job.domain = job.create.domain.unit_mesh.square(8, 8)"
   ]
  },
  {
   "cell_type": "markdown",
   "id": "34e845ad-7a80-4c62-85a0-fd747cf2a56c",
   "metadata": {},
   "source": [
    "### Step 2: Assign boundary conditions"
   ]
  },
  {
   "cell_type": "markdown",
   "id": "5e8978dd-3ad5-4eea-aec7-beff8cbc0d4e",
   "metadata": {},
   "source": [
    "For the purpose of demonstration, we use a simple quadratic function:\n",
    "\n",
    "$$\n",
    "u_e(x, y) = 1 + x^2 + 2 y^2\n",
    "$$\n",
    "\n",
    "By inserting it back into Poisson equation, we can say that $u_e$ is a solution if,\n",
    "\n",
    "$f(x, y)=-6,~u_D(x, y)=u_e(x, y)=1 + x^2 + 2 y^2$"
   ]
  },
  {
   "cell_type": "code",
   "execution_count": 5,
   "id": "9482bac9-6dd6-4989-9dff-a1a58b66dfbf",
   "metadata": {},
   "outputs": [],
   "source": [
    "u_D = job.Expression('1 + x[0]*x[0] + 2*x[1]*x[1]', degree=2)"
   ]
  },
  {
   "cell_type": "markdown",
   "id": "3d397a29-ae2a-4317-94d5-720de3f13d2a",
   "metadata": {},
   "source": [
    "Assign boundary conditions now"
   ]
  },
  {
   "cell_type": "code",
   "execution_count": 6,
   "id": "5779f36e-0b55-4196-8992-97bb464882d1",
   "metadata": {},
   "outputs": [
    {
     "name": "stdout",
     "output_type": "stream",
     "text": [
      "Calling FFC just-in-time (JIT) compiler, this may take some time.\n"
     ]
    }
   ],
   "source": [
    "job.BC = job.create.bc.dirichlet(u_D)"
   ]
  },
  {
   "cell_type": "markdown",
   "id": "24111577-3a59-4cd7-9259-925e68bacf84",
   "metadata": {},
   "source": [
    "### Step 3: specify the variational equation"
   ]
  },
  {
   "cell_type": "code",
   "execution_count": 8,
   "id": "7bd929de-3aa5-4ef3-84f0-dd10ad7f4127",
   "metadata": {},
   "outputs": [],
   "source": [
    "job.LHS = job.dot(job.grad_u, job.grad_v) * job.dx\n",
    "job.RHS = job.Constant(-6.0) * job.v * job.dx"
   ]
  },
  {
   "cell_type": "markdown",
   "id": "5ad09aac-e51e-4e9d-a63a-74ce280bcbd1",
   "metadata": {},
   "source": [
    "And run"
   ]
  },
  {
   "cell_type": "code",
   "execution_count": 9,
   "id": "38e3bbf4-47fc-46d7-9dc0-508568fc6374",
   "metadata": {
    "collapsed": true,
    "jupyter": {
     "outputs_hidden": true
    },
    "tags": []
   },
   "outputs": [
    {
     "name": "stdout",
     "output_type": "stream",
     "text": [
      "The job poisson was saved and received the ID: 1\n",
      "Calling FFC just-in-time (JIT) compiler, this may take some time.\n",
      "Calling FFC just-in-time (JIT) compiler, this may take some time.\n",
      "Calling FFC just-in-time (JIT) compiler, this may take some time.\n",
      "Calling FFC just-in-time (JIT) compiler, this may take some time.\n",
      "Calling FFC just-in-time (JIT) compiler, this may take some time.\n",
      "Solving linear variational problem.\n"
     ]
    }
   ],
   "source": [
    "job.run()"
   ]
  },
  {
   "cell_type": "markdown",
   "id": "09297b55-e31c-4805-8ca6-838004f1ddf9",
   "metadata": {},
   "source": [
    "### Step 4: Visualise the results"
   ]
  },
  {
   "cell_type": "code",
   "execution_count": 10,
   "id": "8ef996eb-382a-48f8-9acf-de90e73fe464",
   "metadata": {},
   "outputs": [
    {
     "data": {
      "image/png": "[encoded data removed]",
      "text/plain": [
       "<Figure size 432x288 with 1 Axes>"
      ]
     },
     "metadata": {
      "needs_background": "light"
     },
     "output_type": "display_data"
    }
   ],
   "source": [
    "job.plot.mesh()"
   ]
  },
  {
   "cell_type": "code",
   "execution_count": 11,
   "id": "33eb4d32-5166-4de0-b680-d8303629b122",
   "metadata": {},
   "outputs": [
    {
     "data": {
      "image/png": "[encoded data removed]",
      "text/plain": [
       "<Figure size 432x288 with 1 Axes>"
      ]
     },
     "metadata": {
      "needs_background": "light"
     },
     "output_type": "display_data"
    }
   ],
   "source": [
    "job.plot.solution()"
   ]
  },
  {
   "cell_type": "markdown",
   "id": "f3e72a70-4823-45e0-bcaa-27c678db6a47",
   "metadata": {},
   "source": [
    "Compute maximum error at the vertices"
   ]
  },
  {
   "cell_type": "code",
   "execution_count": 12,
   "id": "4c9f9818-a301-4a5f-81b9-533a1bc82ace",
   "metadata": {},
   "outputs": [
    {
     "name": "stdout",
     "output_type": "stream",
     "text": [
      "Calling FFC just-in-time (JIT) compiler, this may take some time.\n",
      "*** Warning: Degree of exact solution may be inadequate for accurate result in errornorm.\n",
      "Calling FFC just-in-time (JIT) compiler, this may take some time.\n",
      "Calling FFC just-in-time (JIT) compiler, this may take some time.\n",
      "Calling FFC just-in-time (JIT) compiler, this may take some time.\n",
      "Calling FFC just-in-time (JIT) compiler, this may take some time.\n",
      "Calling FFC just-in-time (JIT) compiler, this may take some time.\n",
      "error_L2  = 0.008235098073354827\n",
      "error_max = 1.3322676295501878e-15\n"
     ]
    }
   ],
   "source": [
    "error_L2 = job.fenics.errornorm(u_D, job.solution, 'L2')\n",
    "\n",
    "vertex_values_u_D = u_D.compute_vertex_values(job.mesh)\n",
    "vertex_values_u = job.output.solution[-1]\n",
    "\n",
    "print('error_L2  =', error_L2)\n",
    "print('error_max =', np.max(np.abs(vertex_values_u_D - vertex_values_u)))"
   ]
  },
  {
   "cell_type": "markdown",
   "id": "84c1a945-776e-4bf5-9b6e-212e936dd0ec",
   "metadata": {},
   "source": [
    "Equivalent python code"
   ]
  },
  {
   "cell_type": "markdown",
   "id": "2556bcb8-85a1-44af-a5eb-e93dfff6ff9f",
   "metadata": {},
   "source": [
    "```python\n",
    "from __future__ import print_function\n",
    "from fenics import *\n",
    "import matplotlib.pyplot as plt\n",
    "\n",
    "# Create mesh and define function space\n",
    "mesh = UnitSquareMesh(8, 8)\n",
    "V = FunctionSpace(mesh, 'P', 1)\n",
    "\n",
    "# Define boundary condition\n",
    "u_D = Expression('1 + x[0]*x[0] + 2*x[1]*x[1]', degree=2)\n",
    "\n",
    "def boundary(x, on_boundary):\n",
    "    return on_boundary\n",
    "\n",
    "bc = DirichletBC(V, u_D, boundary)\n",
    "\n",
    "# Define variational problem\n",
    "u = TrialFunction(V)\n",
    "v = TestFunction(V)\n",
    "f = Constant(-6.0)\n",
    "a = dot(grad(u), grad(v))*dx\n",
    "L = f*v*dx\n",
    "\n",
    "# Compute solution\n",
    "u = Function(V)\n",
    "solve(a == L, u, bc)\n",
    "\n",
    "# Plot solution and mesh\n",
    "plot(u)\n",
    "plot(mesh)\n",
    "\n",
    "# Save solution to file in VTK format\n",
    "vtkfile = File('poisson/solution.pvd')\n",
    "vtkfile << u\n",
    "\n",
    "# Compute error in L2 norm\n",
    "error_L2 = errornorm(u_D, u, 'L2')\n",
    "\n",
    "# Compute maximum error at vertices\n",
    "vertex_values_u_D = u_D.compute_vertex_values(mesh)\n",
    "vertex_values_u = u.compute_vertex_values(mesh)\n",
    "import numpy as np\n",
    "error_max = np.max(np.abs(vertex_values_u_D - vertex_values_u))\n",
    "\n",
    "# Print errors\n",
    "print('error_L2  =', error_L2)\n",
    "print('error_max =', error_max)\n",
    "\n",
    "# Hold plot\n",
    "plt.show()\n",
    "```"
   ]
  },
  {
   "cell_type": "markdown",
   "id": "e0ce7580-fc6d-4f88-a720-5121b066575e",
   "metadata": {},
   "source": []
  }
 ],
 "metadata": {
  "kernelspec": {
   "display_name": "Python 3 (ipykernel)",
   "language": "python",
   "name": "python3"
  },
  "language_info": {
   "codemirror_mode": {
    "name": "ipython",
    "version": 3
   },
   "file_extension": ".py",
   "mimetype": "text/x-python",
   "name": "python",
   "nbconvert_exporter": "python",
   "pygments_lexer": "ipython3",
   "version": "3.9.12"
  }
 },
 "nbformat": 4,
 "nbformat_minor": 5
}
