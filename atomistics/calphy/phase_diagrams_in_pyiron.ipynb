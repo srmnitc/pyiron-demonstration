{
 "cells": [
  {
   "cell_type": "markdown",
   "id": "0fc385d7-1e6b-4916-9b4f-f79ffb4a3005",
   "metadata": {},
   "source": [
    "# <font style=\"color:#313151\" face=\"Helvetica\" > pyiron-atomistics </font>\n",
    "\n",
    "---"
   ]
  },
  {
   "cell_type": "markdown",
   "id": "0de90eff-67d0-407c-b64b-f0d5be9d6657",
   "metadata": {},
   "source": [
    "<table border=\"0\">\n",
    " <tr>\n",
    "    <td style=\"width:60%\"> <p style=\"width:100% color:gray;font-size:18px;text-align:right\"> <a href=\"https://github.com/pyiron/pyiron_atomistics\">pyiron-atomistics</a> provides integrations for atomistics tools enabling seamless cross-code workflows from jupyter notebooks.</p> </td>\n",
    "    <td style=\"width:40%\"><img src=\"img/logo.png\" width=\"50%\" align=\"justify\"></td>\n",
    "  </tr>\n",
    "</table>"
   ]
  },
  {
   "cell_type": "markdown",
   "id": "75fa3b9b-3294-4d4e-a132-2d0eb401e267",
   "metadata": {},
   "source": [
    "<table border=\"0\">\n",
    " <tr>\n",
    "    <td style=\"width:40%\"><img src=\"img/calphy_logo.png\" width=\"100%\" align=\"justify\"></td>\n",
    "    <td style=\"width:60%\"> <p style=\"width:100% color:gray;font-size:18px;text-align:justify\"> Calphy is a Python code for automated calculation of free energies. It enables calculation of Helmholtz and Gibbs free energy for both solid and liquid phases at the given thermodynamic conditions using automated protocols </p> </td>\n",
    " </tr>\n",
    "</table>"
   ]
  },
  {
   "cell_type": "code",
   "execution_count": 1,
   "id": "da61fcb5-1e94-4abf-8049-00c817f35ac2",
   "metadata": {},
   "outputs": [],
   "source": [
    "from pyiron_atomistics import Project"
   ]
  },
  {
   "cell_type": "code",
   "execution_count": 2,
   "id": "2a7238d3-b84c-4d22-b79e-db3d4b7d9a06",
   "metadata": {},
   "outputs": [],
   "source": [
    "pr = Project('copper_demo')"
   ]
  },
  {
   "cell_type": "markdown",
   "id": "7dbb5c52-ea37-464c-82bf-650a3bc7a426",
   "metadata": {},
   "source": [
    "### Step 1: Create a calphy job"
   ]
  },
  {
   "cell_type": "code",
   "execution_count": 3,
   "id": "6edb3187-56f9-4b15-a503-9efc3c4f51ae",
   "metadata": {},
   "outputs": [],
   "source": [
    "sol = pr.create.job.Calphy(\"tm_fcc\")"
   ]
  },
  {
   "cell_type": "markdown",
   "id": "6041f77b-ae7d-429c-b9b0-c2e01ae54f03",
   "metadata": {},
   "source": [
    "### Step 2: provide the input"
   ]
  },
  {
   "cell_type": "markdown",
   "id": "23ad015c-d2e1-495a-a2ce-9fb07ebf5af7",
   "metadata": {},
   "source": [
    "Two major input parameters are needed:\n",
    "\n",
    "1. Interatomic potential\n",
    "2. Atomic structure"
   ]
  },
  {
   "cell_type": "code",
   "execution_count": 4,
   "id": "a63a07c4-9be9-4ad1-bdf8-cc1d1dd3fc21",
   "metadata": {},
   "outputs": [],
   "source": [
    "sol.potential = \"2001--Mishin-Y--Cu-1--LAMMPS--ipr1\"\n",
    "sol.structure = pr.create.structure.ase.bulk('Cu', cubic=True).repeat(5)"
   ]
  },
  {
   "cell_type": "code",
   "execution_count": 5,
   "id": "9049fe19-23b7-41ae-abdb-9e3ede0ff91f",
   "metadata": {
    "jupyter": {
     "source_hidden": true
    },
    "tags": []
   },
   "outputs": [],
   "source": [
    "sol.server.cores = 4"
   ]
  },
  {
   "cell_type": "markdown",
   "id": "d9546275-9453-4871-adca-cf9452b17859",
   "metadata": {},
   "source": [
    "### Step 3: Free energy variation with temperature: melting point"
   ]
  },
  {
   "cell_type": "code",
   "execution_count": 6,
   "id": "e0a4f280-9f33-4d09-8f91-287eef8cb9c8",
   "metadata": {},
   "outputs": [
    {
     "name": "stdout",
     "output_type": "stream",
     "text": [
      "The job tm_fcc was saved and received the ID: 70\n"
     ]
    }
   ],
   "source": [
    "sol.calc_free_energy(temperature=[1100, 1400], \n",
    "                     pressure=0, \n",
    "                     reference_phase=\"solid\")\n",
    "sol.run()"
   ]
  },
  {
   "cell_type": "markdown",
   "id": "9bc805fb-f54d-45a5-909e-8a8ae2ca172f",
   "metadata": {},
   "source": [
    "Liquid phase"
   ]
  },
  {
   "cell_type": "code",
   "execution_count": 8,
   "id": "00426e1f-61eb-4fcd-8229-76670162c55d",
   "metadata": {},
   "outputs": [],
   "source": [
    "lqd = pr.create.job.Calphy(\"tm_lqd\", delete_aborted_job=True, delete_existing_job=True)\n",
    "lqd.structure = sol.structure\n",
    "lqd.potential = \"2001--Mishin-Y--Cu-1--LAMMPS--ipr1\""
   ]
  },
  {
   "cell_type": "code",
   "execution_count": 10,
   "id": "368bb61f-f5af-4927-bc8c-4cf1ce93f7ca",
   "metadata": {
    "tags": []
   },
   "outputs": [
    {
     "name": "stdout",
     "output_type": "stream",
     "text": [
      "The job tm_lqd was saved and received the ID: 71\n"
     ]
    }
   ],
   "source": [
    "lqd.calc_free_energy(temperature=[1100, 1400], \n",
    "                     pressure=0, \n",
    "                     reference_phase=\"liquid\")\n",
    "lqd.run()"
   ]
  },
  {
   "cell_type": "code",
   "execution_count": 13,
   "id": "724b3172-11d9-4543-9e75-b76f5fa5f9d2",
   "metadata": {
    "jupyter": {
     "source_hidden": true
    },
    "tags": []
   },
   "outputs": [],
   "source": [
    "import matplotlib.pyplot as plt"
   ]
  },
  {
   "cell_type": "code",
   "execution_count": 14,
   "id": "7ea5a848-27f4-41c2-9343-b181238c57e1",
   "metadata": {
    "jupyter": {
     "source_hidden": true
    },
    "tags": []
   },
   "outputs": [
    {
     "data": {
      "text/plain": [
       "<matplotlib.legend.Legend at 0x7fdf05d3aa40>"
      ]
     },
     "execution_count": 14,
     "metadata": {},
     "output_type": "execute_result"
    },
    {
     "data": {
      "image/png": "[encoded data removed]",
      "text/plain": [
       "<Figure size 432x288 with 1 Axes>"
      ]
     },
     "metadata": {
      "needs_background": "light"
     },
     "output_type": "display_data"
    }
   ],
   "source": [
    "plt.plot(sol.output.temperature, sol.output.energy_free, label=\"solid\")\n",
    "plt.plot(lqd.output.temperature, lqd.output.energy_free, label=\"liquid\")\n",
    "plt.xlabel(\"Temperature (K)\")\n",
    "plt.ylabel(\"Free energy (eV/atom)\")\n",
    "plt.legend()"
   ]
  },
  {
   "cell_type": "markdown",
   "id": "e8b72a5d-8d38-4c0c-8204-a9231aed4bfc",
   "metadata": {},
   "source": [
    "### Some examples"
   ]
  },
  {
   "cell_type": "markdown",
   "id": "87007a6d-3f14-4133-a60e-1db758c2abce",
   "metadata": {},
   "source": [
    "#### Phase diagram of Titanium\n",
    "\n",
    "<img src=\"img/cimg1.png\" width=\"400\">"
   ]
  },
  {
   "cell_type": "markdown",
   "id": "a079dcfc-cb13-4b03-870a-babde579fb68",
   "metadata": {},
   "source": [
    "#### Melting curve of Copper\n",
    "\n",
    "<img src=\"img/cimg2.png\" width=\"400\">"
   ]
  },
  {
   "cell_type": "markdown",
   "id": "45c1e50c-50bf-4679-84b7-ac842259edbf",
   "metadata": {},
   "source": [
    "#### Phase diagram of AuSi\n",
    "\n",
    "<img src=\"img/cimg3.png\" width=\"1000\">"
   ]
  },
  {
   "cell_type": "markdown",
   "id": "966c6ac1-6004-49a7-ba8a-b0e7c049d625",
   "metadata": {},
   "source": [
    "### Why integrate with pyiron?"
   ]
  },
  {
   "cell_type": "markdown",
   "id": "665ea3a4-dc77-4e36-bb57-585af3cf4c30",
   "metadata": {},
   "source": [
    "<img src=\"img/Picture1.png\" width=\"2000\">\n",
    "\n",
    "---"
   ]
  },
  {
   "cell_type": "markdown",
   "id": "b70e112f-90dc-486c-b574-8d31017a21a9",
   "metadata": {},
   "source": [
    "<img src=\"img/Picture2.png\" width=\"2000\">"
   ]
  },
  {
   "cell_type": "code",
   "execution_count": null,
   "id": "833a6dd0-6e58-4c8b-99c3-6967e4717c81",
   "metadata": {},
   "outputs": [],
   "source": []
  }
 ],
 "metadata": {
  "kernelspec": {
   "display_name": "pyiron-dev",
   "language": "python",
   "name": "pyiron-dev"
  },
  "language_info": {
   "codemirror_mode": {
    "name": "ipython",
    "version": 3
   },
   "file_extension": ".py",
   "mimetype": "text/x-python",
   "name": "python",
   "nbconvert_exporter": "python",
   "pygments_lexer": "ipython3",
   "version": "3.10.2"
  }
 },
 "nbformat": 4,
 "nbformat_minor": 5
}
